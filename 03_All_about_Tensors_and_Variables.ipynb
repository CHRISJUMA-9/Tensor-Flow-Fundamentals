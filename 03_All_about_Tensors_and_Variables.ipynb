{
  "nbformat": 4,
  "nbformat_minor": 0,
  "metadata": {
    "colab": {
      "provenance": [],
      "authorship_tag": "ABX9TyOUTc7xmv6WwelY27+OZrhh",
      "include_colab_link": true
    },
    "kernelspec": {
      "name": "python3",
      "display_name": "Python 3"
    },
    "language_info": {
      "name": "python"
    }
  },
  "cells": [
    {
      "cell_type": "markdown",
      "metadata": {
        "id": "view-in-github",
        "colab_type": "text"
      },
      "source": [
        "<a href=\"https://colab.research.google.com/github/CHRISJUMA-9/Tensor-Flow-Fundamentals/blob/main/03_All_about_Tensors_and_Variables.ipynb\" target=\"_parent\"><img src=\"https://colab.research.google.com/assets/colab-badge.svg\" alt=\"Open In Colab\"/></a>"
      ]
    },
    {
      "cell_type": "markdown",
      "source": [
        "# All about Tensors and Variables\n",
        "Outline\n",
        "- Basics\n",
        "- Initialization and Casting\n",
        "- Indexing\n",
        "- Maths operations\n",
        "- Linear Algebra operations\n",
        "- Common TensorFlow functions\n",
        "- Ragged Tensors\n",
        "- Sparse Tensors\n",
        "- String Tensors"
      ],
      "metadata": {
        "id": "Qsw0ZZ_KVN7r"
      }
    },
    {
      "cell_type": "markdown",
      "source": [
        "#TENSORS"
      ],
      "metadata": {
        "id": "5G-ZcRnu2grU"
      }
    },
    {
      "cell_type": "markdown",
      "source": [
        "## Basics, initialization and casting"
      ],
      "metadata": {
        "id": "kHbYgjmdFKOx"
      }
    },
    {
      "cell_type": "code",
      "execution_count": null,
      "metadata": {
        "id": "dCRsRqqxs-8a"
      },
      "outputs": [],
      "source": [
        "import tensorflow as tf\n",
        "import numpy as np"
      ]
    },
    {
      "cell_type": "code",
      "source": [
        "# Set random seed, basically random set seed ensures you get the same output each time you run the code\n",
        "tf.random.set_seed(5)\n",
        "print(tf.random.uniform(shape=[3,], maxval=5, dtype=tf.int32, seed=10))\n",
        "print(tf.random.uniform(shape=[3,], maxval=5, dtype=tf.int32, seed=10))\n",
        "print(tf.random.uniform(shape=[3,], maxval=5, dtype=tf.int32, seed=10))\n",
        "print(tf.random.uniform(shape=[3,], maxval=5, dtype=tf.int32, seed=10))"
      ],
      "metadata": {
        "colab": {
          "base_uri": "https://localhost:8080/"
        },
        "id": "sY1tVKtnxd3p",
        "outputId": "1f021da7-465a-4176-a9e8-f18827e12322"
      },
      "execution_count": null,
      "outputs": [
        {
          "output_type": "stream",
          "name": "stdout",
          "text": [
            "tf.Tensor([4 3 1], shape=(3,), dtype=int32)\n",
            "tf.Tensor([4 3 2], shape=(3,), dtype=int32)\n",
            "tf.Tensor([1 1 1], shape=(3,), dtype=int32)\n",
            "tf.Tensor([1 3 3], shape=(3,), dtype=int32)\n"
          ]
        }
      ]
    },
    {
      "cell_type": "code",
      "source": [
        "tensor_zero_d = tf.constant(4)\n",
        "print(tensor_zero_d)"
      ],
      "metadata": {
        "colab": {
          "base_uri": "https://localhost:8080/"
        },
        "id": "B_kwtqtbtwpd",
        "outputId": "911f6c8f-a326-4a73-8ce4-4362410f7406"
      },
      "execution_count": null,
      "outputs": [
        {
          "output_type": "stream",
          "name": "stdout",
          "text": [
            "tf.Tensor(4, shape=(), dtype=int32)\n"
          ]
        }
      ]
    },
    {
      "cell_type": "code",
      "source": [
        "tensor_one_d = tf.constant([2,0.,-3,8,90],dtype=tf.float32)\n",
        "casted_tensor_one_d = tf.cast(tensor_one_d,dtype=tf.bool)\n",
        "print(tensor_one_d)\n",
        "print(casted_tensor_one_d)"
      ],
      "metadata": {
        "colab": {
          "base_uri": "https://localhost:8080/"
        },
        "id": "EUoQ35eFuRo6",
        "outputId": "40174e42-f343-47ce-eda0-f12bb8b7d609"
      },
      "execution_count": null,
      "outputs": [
        {
          "output_type": "stream",
          "name": "stdout",
          "text": [
            "tf.Tensor([ 2.  0. -3.  8. 90.], shape=(5,), dtype=float32)\n",
            "tf.Tensor([ True False  True  True  True], shape=(5,), dtype=bool)\n"
          ]
        }
      ]
    },
    {
      "cell_type": "code",
      "source": [
        "tensor_bool = tf.constant([True, True, False])\n",
        "print(tensor_bool)"
      ],
      "metadata": {
        "colab": {
          "base_uri": "https://localhost:8080/"
        },
        "id": "NPv-EVv-7MJU",
        "outputId": "74fd0e90-dc33-4441-c202-4a34a780e71f"
      },
      "execution_count": null,
      "outputs": [
        {
          "output_type": "stream",
          "name": "stdout",
          "text": [
            "tf.Tensor([ True  True False], shape=(3,), dtype=bool)\n"
          ]
        }
      ]
    },
    {
      "cell_type": "code",
      "source": [
        "tensor_string = tf.constant([\"hello Chris, welcome to the AI world\", \"tschuss\"])\n",
        "print(tensor_string)"
      ],
      "metadata": {
        "colab": {
          "base_uri": "https://localhost:8080/"
        },
        "id": "mbneZ9Lv7cyQ",
        "outputId": "780da25e-dfe3-4aa8-c32c-6f9f2297d200"
      },
      "execution_count": null,
      "outputs": [
        {
          "output_type": "stream",
          "name": "stdout",
          "text": [
            "tf.Tensor([b'hello Chris, welcome to the AI world' b'tschuss'], shape=(2,), dtype=string)\n"
          ]
        }
      ]
    },
    {
      "cell_type": "code",
      "source": [
        "tensor_two_d = tf.constant([\n",
        "    [1,2,6],\n",
        "    [3,5,-1],\n",
        "    [1,5,6],\n",
        "    [2,3,8]\n",
        "])\n",
        "print(tensor_two_d)"
      ],
      "metadata": {
        "colab": {
          "base_uri": "https://localhost:8080/"
        },
        "id": "pWQdqaupwhJ_",
        "outputId": "1e9facef-c135-41c7-9e33-0c1234d921f3"
      },
      "execution_count": null,
      "outputs": [
        {
          "output_type": "stream",
          "name": "stdout",
          "text": [
            "tf.Tensor(\n",
            "[[ 1  2  6]\n",
            " [ 3  5 -1]\n",
            " [ 1  5  6]\n",
            " [ 2  3  8]], shape=(4, 3), dtype=int32)\n"
          ]
        }
      ]
    },
    {
      "cell_type": "code",
      "source": [
        "tensor_three_d = tf.constant([\n",
        "    [[1,2,0],\n",
        "     [3,5,-1]],\n",
        "\n",
        "    [[10,2,0],\n",
        "     [1,0,2]],\n",
        "\n",
        "    [[5,8,0],\n",
        "     [2,7,0]],\n",
        "\n",
        "    [[2,1,9],\n",
        "     [4,-3,32]]\n",
        "\n",
        "])\n",
        "print(tensor_three_d)"
      ],
      "metadata": {
        "colab": {
          "base_uri": "https://localhost:8080/"
        },
        "id": "fK_3AYUUxFjz",
        "outputId": "3cd1ea3c-d344-44fb-e40d-ef4ebd9f78de"
      },
      "execution_count": null,
      "outputs": [
        {
          "output_type": "stream",
          "name": "stdout",
          "text": [
            "tf.Tensor(\n",
            "[[[ 1  2  0]\n",
            "  [ 3  5 -1]]\n",
            "\n",
            " [[10  2  0]\n",
            "  [ 1  0  2]]\n",
            "\n",
            " [[ 5  8  0]\n",
            "  [ 2  7  0]]\n",
            "\n",
            " [[ 2  1  9]\n",
            "  [ 4 -3 32]]], shape=(4, 2, 3), dtype=int32)\n"
          ]
        }
      ]
    },
    {
      "cell_type": "code",
      "source": [
        "tensor_three_d.ndim"
      ],
      "metadata": {
        "colab": {
          "base_uri": "https://localhost:8080/"
        },
        "id": "aP2hBn34yR9Z",
        "outputId": "2f96f60e-28b5-4ae2-c901-a50b2e501f6c"
      },
      "execution_count": null,
      "outputs": [
        {
          "output_type": "execute_result",
          "data": {
            "text/plain": [
              "3"
            ]
          },
          "metadata": {},
          "execution_count": 103
        }
      ]
    },
    {
      "cell_type": "code",
      "source": [
        "tensor_two_d.shape"
      ],
      "metadata": {
        "colab": {
          "base_uri": "https://localhost:8080/"
        },
        "id": "9XDCKppKyl32",
        "outputId": "91c6713e-af8d-40a3-a4e1-c37f958a802f"
      },
      "execution_count": null,
      "outputs": [
        {
          "output_type": "execute_result",
          "data": {
            "text/plain": [
              "TensorShape([4, 3])"
            ]
          },
          "metadata": {},
          "execution_count": 104
        }
      ]
    },
    {
      "cell_type": "code",
      "source": [
        "tensor_four_d = tf.constant([\n",
        "    [\n",
        "     [[1,2,0],\n",
        "     [3,5,-1]],\n",
        "\n",
        "    [[10,2,0],\n",
        "     [1,0,2]],\n",
        "\n",
        "    [[5,8,0],\n",
        "     [2,7,0]],\n",
        "\n",
        "    [[2,1,9],\n",
        "     [4,-3,32]]\n",
        "\n",
        "],\n",
        "\n",
        "      [[[13,26,0],\n",
        "     [3,5,-1]],\n",
        "\n",
        "    [[10,2,0],\n",
        "     [1,0,23]],\n",
        "\n",
        "    [[5,8,0],\n",
        "     [2,73,0]],\n",
        "\n",
        "    [[2,1,9],\n",
        "     [4,-30,32]]\n",
        "\n",
        " ],\n",
        "       [[[103,26,0],\n",
        "     [3,5,-1]],\n",
        "\n",
        "    [[10,2,0],\n",
        "     [1,70,23]],\n",
        "\n",
        "    [[5,8,0],\n",
        "     [2,73,0]],\n",
        "\n",
        "    [[28,1,9],\n",
        "     [4,-30,32]]\n",
        "],\n",
        "])\n",
        "print(tensor_four_d)"
      ],
      "metadata": {
        "colab": {
          "base_uri": "https://localhost:8080/"
        },
        "id": "1gtpJWViy70p",
        "outputId": "f33dcca8-4d0a-49dc-968a-0197f7f894af"
      },
      "execution_count": null,
      "outputs": [
        {
          "output_type": "stream",
          "name": "stdout",
          "text": [
            "tf.Tensor(\n",
            "[[[[  1   2   0]\n",
            "   [  3   5  -1]]\n",
            "\n",
            "  [[ 10   2   0]\n",
            "   [  1   0   2]]\n",
            "\n",
            "  [[  5   8   0]\n",
            "   [  2   7   0]]\n",
            "\n",
            "  [[  2   1   9]\n",
            "   [  4  -3  32]]]\n",
            "\n",
            "\n",
            " [[[ 13  26   0]\n",
            "   [  3   5  -1]]\n",
            "\n",
            "  [[ 10   2   0]\n",
            "   [  1   0  23]]\n",
            "\n",
            "  [[  5   8   0]\n",
            "   [  2  73   0]]\n",
            "\n",
            "  [[  2   1   9]\n",
            "   [  4 -30  32]]]\n",
            "\n",
            "\n",
            " [[[103  26   0]\n",
            "   [  3   5  -1]]\n",
            "\n",
            "  [[ 10   2   0]\n",
            "   [  1  70  23]]\n",
            "\n",
            "  [[  5   8   0]\n",
            "   [  2  73   0]]\n",
            "\n",
            "  [[ 28   1   9]\n",
            "   [  4 -30  32]]]], shape=(3, 4, 2, 3), dtype=int32)\n"
          ]
        }
      ]
    },
    {
      "cell_type": "code",
      "source": [
        "# How to convert numpy array into a tensor\n",
        "import numpy as np\n",
        "\n",
        "np_array = np.array([1,2,4])\n",
        "print(np_array)"
      ],
      "metadata": {
        "colab": {
          "base_uri": "https://localhost:8080/"
        },
        "id": "2Rhrpudp8RCz",
        "outputId": "f629ef90-9d34-414a-b52a-3b3c1aa6a0d8"
      },
      "execution_count": null,
      "outputs": [
        {
          "output_type": "stream",
          "name": "stdout",
          "text": [
            "[1 2 4]\n"
          ]
        }
      ]
    },
    {
      "cell_type": "code",
      "source": [
        "converted_tensor = tf.convert_to_tensor(np_array)\n",
        "print(converted_tensor)"
      ],
      "metadata": {
        "colab": {
          "base_uri": "https://localhost:8080/"
        },
        "id": "5rf9Xnxa9BiU",
        "outputId": "52298eda-6079-4b91-9a5a-4bebddbc7d5f"
      },
      "execution_count": null,
      "outputs": [
        {
          "output_type": "stream",
          "name": "stdout",
          "text": [
            "tf.Tensor([1 2 4], shape=(3,), dtype=int64)\n"
          ]
        }
      ]
    },
    {
      "cell_type": "code",
      "source": [
        "# The eye identity for constructing identity matrix, or a batch of matrices\n",
        "eye_tensor = tf.eye(\n",
        "    num_rows=6,\n",
        "    num_columns=None,\n",
        "    batch_shape=[3,2],\n",
        "    dtype=tf.dtypes.bool,\n",
        "    name=None\n",
        ")\n",
        "print(eye_tensor)"
      ],
      "metadata": {
        "colab": {
          "base_uri": "https://localhost:8080/"
        },
        "id": "gFZ7F2gy-jlC",
        "outputId": "ab7abea7-4fbb-4f4a-862c-aeccf8b0c27c"
      },
      "execution_count": null,
      "outputs": [
        {
          "output_type": "stream",
          "name": "stdout",
          "text": [
            "tf.Tensor(\n",
            "[[[[ True False False False False False]\n",
            "   [False  True False False False False]\n",
            "   [False False  True False False False]\n",
            "   [False False False  True False False]\n",
            "   [False False False False  True False]\n",
            "   [False False False False False  True]]\n",
            "\n",
            "  [[ True False False False False False]\n",
            "   [False  True False False False False]\n",
            "   [False False  True False False False]\n",
            "   [False False False  True False False]\n",
            "   [False False False False  True False]\n",
            "   [False False False False False  True]]]\n",
            "\n",
            "\n",
            " [[[ True False False False False False]\n",
            "   [False  True False False False False]\n",
            "   [False False  True False False False]\n",
            "   [False False False  True False False]\n",
            "   [False False False False  True False]\n",
            "   [False False False False False  True]]\n",
            "\n",
            "  [[ True False False False False False]\n",
            "   [False  True False False False False]\n",
            "   [False False  True False False False]\n",
            "   [False False False  True False False]\n",
            "   [False False False False  True False]\n",
            "   [False False False False False  True]]]\n",
            "\n",
            "\n",
            " [[[ True False False False False False]\n",
            "   [False  True False False False False]\n",
            "   [False False  True False False False]\n",
            "   [False False False  True False False]\n",
            "   [False False False False  True False]\n",
            "   [False False False False False  True]]\n",
            "\n",
            "  [[ True False False False False False]\n",
            "   [False  True False False False False]\n",
            "   [False False  True False False False]\n",
            "   [False False False  True False False]\n",
            "   [False False False False  True False]\n",
            "   [False False False False False  True]]]], shape=(3, 2, 6, 6), dtype=bool)\n"
          ]
        }
      ]
    },
    {
      "cell_type": "code",
      "source": [
        "# tf.fill method which creates a tensor filled with a scalar value\n",
        "# tf.fill(\n",
        "   # dims, value, name=None, layout=None\n",
        "#)\n",
        "fill_tensor = tf.fill(\n",
        "    [2,3,4],9, name=None\n",
        ")\n",
        "print(fill_tensor)"
      ],
      "metadata": {
        "colab": {
          "base_uri": "https://localhost:8080/"
        },
        "id": "_-SBo2wDAgX6",
        "outputId": "d59ded45-794f-45c0-dad6-eeb7614df456"
      },
      "execution_count": null,
      "outputs": [
        {
          "output_type": "stream",
          "name": "stdout",
          "text": [
            "tf.Tensor(\n",
            "[[[9 9 9 9]\n",
            "  [9 9 9 9]\n",
            "  [9 9 9 9]]\n",
            "\n",
            " [[9 9 9 9]\n",
            "  [9 9 9 9]\n",
            "  [9 9 9 9]]], shape=(2, 3, 4), dtype=int32)\n"
          ]
        }
      ]
    },
    {
      "cell_type": "code",
      "source": [
        "# tf.ones which creates a tensor with all elements set to one\n",
        "ones_tensor = tf.ones(\n",
        "    [5,4],\n",
        "    dtype=tf.dtypes.float32,\n",
        "    name=None\n",
        ")\n",
        "print(ones_tensor)"
      ],
      "metadata": {
        "colab": {
          "base_uri": "https://localhost:8080/"
        },
        "id": "tqMKnZDxCOQ-",
        "outputId": "9ccb2997-dc38-4e8a-9bf4-88400e57d640"
      },
      "execution_count": null,
      "outputs": [
        {
          "output_type": "stream",
          "name": "stdout",
          "text": [
            "tf.Tensor(\n",
            "[[1. 1. 1. 1.]\n",
            " [1. 1. 1. 1.]\n",
            " [1. 1. 1. 1.]\n",
            " [1. 1. 1. 1.]\n",
            " [1. 1. 1. 1.]], shape=(5, 4), dtype=float32)\n"
          ]
        }
      ]
    },
    {
      "cell_type": "code",
      "source": [
        "#tf.ones_like which creates tensor of all ones that has the same shape as input\n",
        "ones_like_tensor = tf.ones_like(fill_tensor)\n",
        "print(ones_like_tensor)"
      ],
      "metadata": {
        "colab": {
          "base_uri": "https://localhost:8080/"
        },
        "id": "_4hiaPTYDs6o",
        "outputId": "7d1cba41-946f-43d5-99a6-900c19b4eda2"
      },
      "execution_count": null,
      "outputs": [
        {
          "output_type": "stream",
          "name": "stdout",
          "text": [
            "tf.Tensor(\n",
            "[[[1 1 1 1]\n",
            "  [1 1 1 1]\n",
            "  [1 1 1 1]]\n",
            "\n",
            " [[1 1 1 1]\n",
            "  [1 1 1 1]\n",
            "  [1 1 1 1]]], shape=(2, 3, 4), dtype=int32)\n"
          ]
        }
      ]
    },
    {
      "cell_type": "code",
      "source": [
        "# tf.zeros which creates a tensor with all eleents set to zero\n",
        "zeros_tensor = tf.zeros(\n",
        "    [3,6],\n",
        "    dtype=tf.dtypes.float32,\n",
        "    name=None\n",
        ")\n",
        "print(zeros_tensor)"
      ],
      "metadata": {
        "colab": {
          "base_uri": "https://localhost:8080/"
        },
        "id": "Z5YEcb5OGyh_",
        "outputId": "ae41c4bf-edf9-41ce-d346-53306a3ebd89"
      },
      "execution_count": null,
      "outputs": [
        {
          "output_type": "stream",
          "name": "stdout",
          "text": [
            "tf.Tensor(\n",
            "[[0. 0. 0. 0. 0. 0.]\n",
            " [0. 0. 0. 0. 0. 0.]\n",
            " [0. 0. 0. 0. 0. 0.]], shape=(3, 6), dtype=float32)\n"
          ]
        }
      ]
    },
    {
      "cell_type": "code",
      "source": [
        "# tf.shape returns a tensor shape containing the shape of the input tensor\n",
        "tensor_shape = tf.shape(\n",
        "    [4,2,3],\n",
        "    out_type=tf.dtypes.int32,\n",
        "    name=None\n",
        ")\n",
        "print(tensor_shape)"
      ],
      "metadata": {
        "colab": {
          "base_uri": "https://localhost:8080/"
        },
        "id": "3bv_M-27JmKV",
        "outputId": "738a28b4-50d1-4f86-903c-2d301ccc87b4"
      },
      "execution_count": null,
      "outputs": [
        {
          "output_type": "stream",
          "name": "stdout",
          "text": [
            "tf.Tensor([3], shape=(1,), dtype=int32)\n"
          ]
        }
      ]
    },
    {
      "cell_type": "code",
      "source": [
        "# tf.rank which returns the rank of a tensor\n",
        "t = tf.constant([[1,1,1], [2,2,2]])\n",
        "tf.rank(t)"
      ],
      "metadata": {
        "colab": {
          "base_uri": "https://localhost:8080/"
        },
        "id": "2xIv0f9cMwiH",
        "outputId": "d1677d9c-dc75-4a88-8524-7b568a6535f2"
      },
      "execution_count": null,
      "outputs": [
        {
          "output_type": "execute_result",
          "data": {
            "text/plain": [
              "<tf.Tensor: shape=(), dtype=int32, numpy=2>"
            ]
          },
          "metadata": {},
          "execution_count": 114
        }
      ]
    },
    {
      "cell_type": "code",
      "source": [
        "# tf.size method which returns the size of the tensor\n",
        "tensor_size = tf.constant([2,3,4])\n",
        "tf.size(tensor_size,out_type=tf.float32)"
      ],
      "metadata": {
        "colab": {
          "base_uri": "https://localhost:8080/"
        },
        "id": "cn1JRUXGOvJ1",
        "outputId": "1e015d90-7f80-47ed-a459-b8cd4d40951a"
      },
      "execution_count": null,
      "outputs": [
        {
          "output_type": "execute_result",
          "data": {
            "text/plain": [
              "<tf.Tensor: shape=(), dtype=float32, numpy=3.0>"
            ]
          },
          "metadata": {},
          "execution_count": 115
        }
      ]
    },
    {
      "cell_type": "code",
      "source": [
        "# Creating our own random tensors using tf.random.normal\n",
        "# The output values are drawn from a normal distribution\n",
        "random_tensor = tf.random.normal(\n",
        "    [3,2],\n",
        "    mean=100.0,\n",
        "    stddev=1.0,\n",
        "    dtype=tf.dtypes.float32,\n",
        "    seed=None,\n",
        "    name=None\n",
        ")\n",
        "print(random_tensor)"
      ],
      "metadata": {
        "colab": {
          "base_uri": "https://localhost:8080/"
        },
        "id": "3-oOiecZPgv4",
        "outputId": "f0350911-af47-42c7-b43a-17b6436c11b1"
      },
      "execution_count": null,
      "outputs": [
        {
          "output_type": "stream",
          "name": "stdout",
          "text": [
            "tf.Tensor(\n",
            "[[ 99.819695  99.04971 ]\n",
            " [ 99.96036   99.25746 ]\n",
            " [101.32315   99.381454]], shape=(3, 2), dtype=float32)\n"
          ]
        }
      ]
    },
    {
      "cell_type": "code",
      "source": [
        "# tf.random.uniform which outputs random values from a uniform distribution\n",
        "random_tensor = tf.random.uniform(\n",
        "    [5,4],\n",
        "    minval=0,\n",
        "    maxval=999,\n",
        "    dtype=tf.dtypes.int32,\n",
        "    seed=None,\n",
        "    name=None\n",
        ")\n",
        "print(random_tensor)"
      ],
      "metadata": {
        "colab": {
          "base_uri": "https://localhost:8080/"
        },
        "id": "nTk3283eSv9o",
        "outputId": "714416d0-9678-47cc-fd18-de16db27e9a1"
      },
      "execution_count": null,
      "outputs": [
        {
          "output_type": "stream",
          "name": "stdout",
          "text": [
            "tf.Tensor(\n",
            "[[646  16 602 635]\n",
            " [ 69  91 647 141]\n",
            " [418 449 571 755]\n",
            " [899 180 816 655]\n",
            " [859 386 806 599]], shape=(5, 4), dtype=int32)\n"
          ]
        }
      ]
    },
    {
      "cell_type": "code",
      "source": [
        "# Using the tf.random.set_seed function\n"
      ],
      "metadata": {
        "id": "7Szp8oY9wbu0"
      },
      "execution_count": null,
      "outputs": []
    },
    {
      "cell_type": "markdown",
      "source": [
        "## Indexing"
      ],
      "metadata": {
        "id": "08QEFTh1zSl4"
      }
    },
    {
      "cell_type": "code",
      "source": [
        "# Determining the tensor indexing\n",
        "tensor_indexed = tf.constant([3,6,2,4,6,66,7])\n",
        "print(tensor_indexed)\n",
        "print(tensor_indexed[0:4])\n",
        "print(tensor_indexed[1:5])\n",
        "print(tensor_indexed[1:5+1])\n",
        "print(tensor_indexed[1:6:2]) # start at index 1 value 6, skip index 2, next index 3 value 4, skip index 4, next index 5 value 66, stop because next would be 7 outside the 1:6 range\n",
        "print(tensor_indexed[3:-1]) # start at index 3 then stop before the last index which is 7"
      ],
      "metadata": {
        "colab": {
          "base_uri": "https://localhost:8080/"
        },
        "id": "c6ZMCofozVDG",
        "outputId": "47604407-9bc2-4284-b083-7d1377d14c0f"
      },
      "execution_count": null,
      "outputs": [
        {
          "output_type": "stream",
          "name": "stdout",
          "text": [
            "tf.Tensor([ 3  6  2  4  6 66  7], shape=(7,), dtype=int32)\n",
            "tf.Tensor([3 6 2 4], shape=(4,), dtype=int32)\n",
            "tf.Tensor([6 2 4 6], shape=(4,), dtype=int32)\n",
            "tf.Tensor([ 6  2  4  6 66], shape=(5,), dtype=int32)\n",
            "tf.Tensor([ 6  4 66], shape=(3,), dtype=int32)\n",
            "tf.Tensor([ 4  6 66], shape=(3,), dtype=int32)\n"
          ]
        }
      ]
    },
    {
      "cell_type": "code",
      "source": [
        "# NOTE getting the index of rows and column ([rows],[column])\n",
        "tensor_two_d = tf.constant([\n",
        "    [1,2,6], # From row 0 → columns 0 & 1 → [1, 2]\n",
        "    [3,5,-1], # From row 1 → columns 0 & 1 → [3, 5]\n",
        "    [1,5,6], # From row 2 → columns 0 & 1 → [1, 5]\n",
        "    [2,3,8]\n",
        "])\n",
        "print(tensor_two_d[0:3,0:2]) # tensor[row_start:row_end, col_start:col_end]"
      ],
      "metadata": {
        "colab": {
          "base_uri": "https://localhost:8080/"
        },
        "id": "_33oH17x4lIG",
        "outputId": "25b3aa78-969b-4045-adc3-7682be3a8cfa"
      },
      "execution_count": null,
      "outputs": [
        {
          "output_type": "stream",
          "name": "stdout",
          "text": [
            "tf.Tensor(\n",
            "[[1 2]\n",
            " [3 5]\n",
            " [1 5]], shape=(3, 2), dtype=int32)\n"
          ]
        }
      ]
    },
    {
      "cell_type": "code",
      "source": [
        "# Indexing in a 3d tensor\n",
        "tensor_three_d = tf.constant([\n",
        "    [[1,2,0],\n",
        "     [3,5,-1]],\n",
        "\n",
        "    [[10,2,0],\n",
        "     [1,0,2]],\n",
        "\n",
        "    [[5,8,0],\n",
        "     [2,7,0]],\n",
        "\n",
        "    [[2,1,9],\n",
        "     [4,-3,32]]\n",
        "\n",
        "])\n",
        "print(tensor_three_d[0:2, ... , 2 ]) #"
      ],
      "metadata": {
        "colab": {
          "base_uri": "https://localhost:8080/"
        },
        "id": "WDPYyslQ_oGW",
        "outputId": "626f8196-01b3-4c60-982a-4c96af031e19"
      },
      "execution_count": null,
      "outputs": [
        {
          "output_type": "stream",
          "name": "stdout",
          "text": [
            "tf.Tensor(\n",
            "[[ 0 -1]\n",
            " [ 0  2]], shape=(2, 2), dtype=int32)\n"
          ]
        }
      ]
    },
    {
      "cell_type": "markdown",
      "source": [
        "## Maths operations"
      ],
      "metadata": {
        "id": "SoyrfAoxFjee"
      }
    },
    {
      "cell_type": "markdown",
      "source": [
        "###tf.abs (absolute value)"
      ],
      "metadata": {
        "id": "hXVOrBZJkK9r"
      }
    },
    {
      "cell_type": "code",
      "source": [
        "# Getting the absolute (positive values only) value using x-abs\n",
        "x_abs = tf.constant([-2.25, 3.25])\n",
        "tf.abs(x_abs) # returns absolute value of each of the elemnts in the tensor"
      ],
      "metadata": {
        "colab": {
          "base_uri": "https://localhost:8080/"
        },
        "id": "MNyctOZgFmrY",
        "outputId": "beba943c-612e-4c44-ff60-0c3da2164046"
      },
      "execution_count": null,
      "outputs": [
        {
          "output_type": "execute_result",
          "data": {
            "text/plain": [
              "<tf.Tensor: shape=(2,), dtype=float32, numpy=array([2.25, 3.25], dtype=float32)>"
            ]
          },
          "metadata": {},
          "execution_count": 122
        }
      ]
    },
    {
      "cell_type": "code",
      "source": [
        "x_abs_complex = tf.constant([-2.25 + 4.75j])\n",
        "tf.abs(x_abs_complex) # basically squares the values then finds teh square root"
      ],
      "metadata": {
        "colab": {
          "base_uri": "https://localhost:8080/"
        },
        "id": "pd2FvHvxJlHw",
        "outputId": "3dff091a-b381-4d20-f20b-e09cbd58c53e"
      },
      "execution_count": null,
      "outputs": [
        {
          "output_type": "execute_result",
          "data": {
            "text/plain": [
              "<tf.Tensor: shape=(1,), dtype=float64, numpy=array([5.25594901])>"
            ]
          },
          "metadata": {},
          "execution_count": 123
        }
      ]
    },
    {
      "cell_type": "code",
      "source": [
        "# Prove of above through square root\n",
        "tf.sqrt(((-2.25)**2 + 4.75**2))"
      ],
      "metadata": {
        "colab": {
          "base_uri": "https://localhost:8080/"
        },
        "id": "sS5vjAn9KHLs",
        "outputId": "3002ed47-7a4b-4670-f059-5cf682a17310"
      },
      "execution_count": null,
      "outputs": [
        {
          "output_type": "execute_result",
          "data": {
            "text/plain": [
              "<tf.Tensor: shape=(), dtype=float32, numpy=5.255949020385742>"
            ]
          },
          "metadata": {},
          "execution_count": 124
        }
      ]
    },
    {
      "cell_type": "markdown",
      "source": [
        "###tf.add, multiplication, division, subraction"
      ],
      "metadata": {
        "id": "YHr9SqOJkTkj"
      }
    },
    {
      "cell_type": "code",
      "source": [
        "# Addition, multiplication, division, subraction\n",
        "x_1 = tf.constant([5,3,6,6,4,6], dtype = tf.int32)\n",
        "x_2 = tf.constant([7,6,2,6,7,11], dtype = tf.int32)\n",
        "print(tf.add(x_1, x_2)) # you can also use (subtract, multiply, divided) in place of add"
      ],
      "metadata": {
        "colab": {
          "base_uri": "https://localhost:8080/"
        },
        "id": "Sh1RbhLzMm3A",
        "outputId": "a5b46f6b-e9ca-48e6-ca4e-c6bcd95822f9"
      },
      "execution_count": null,
      "outputs": [
        {
          "output_type": "stream",
          "name": "stdout",
          "text": [
            "tf.Tensor([12  9  8 12 11 17], shape=(6,), dtype=int32)\n"
          ]
        }
      ]
    },
    {
      "cell_type": "markdown",
      "source": [
        "###tf.divide_no_nan()"
      ],
      "metadata": {
        "id": "vTR9vp9qkjYI"
      }
    },
    {
      "cell_type": "code",
      "source": [
        "# divide no nan which avoids division by zero errors\n",
        "x_1 = tf.constant([5,3,6,6,4,6], dtype = tf.float32)\n",
        "x_2 = tf.constant([7,6,2,6,7,11], dtype = tf.float32)\n",
        "print(tf.math.divide_no_nan(x_1, x_2)) # i.e it divideds element wise if value is 0/0 it returns 0.0 instaed of error or NaN"
      ],
      "metadata": {
        "colab": {
          "base_uri": "https://localhost:8080/"
        },
        "id": "VlO4I684NhFh",
        "outputId": "9fe111a8-6149-4c6d-8fdd-90f5c1138eda"
      },
      "execution_count": null,
      "outputs": [
        {
          "output_type": "stream",
          "name": "stdout",
          "text": [
            "tf.Tensor([0.71428573 0.5        3.         1.         0.5714286  0.54545456], shape=(6,), dtype=float32)\n"
          ]
        }
      ]
    },
    {
      "cell_type": "code",
      "source": [
        "# Broadcasting, if the tensors are of different shapes\n",
        "x_1 = tf.constant([5,3,6,6,4,6], dtype = tf.float32)\n",
        "x_2 = tf.constant([7], dtype = tf.float32)\n",
        "x_2_stretched = tf.constant([7,7,7,7,7,7], dtype = tf.float32)\n",
        "print(tf.math.add(x_1, x_2))\n",
        "print(tf.math.add(x_1, x_2_stretched))"
      ],
      "metadata": {
        "colab": {
          "base_uri": "https://localhost:8080/"
        },
        "id": "8rWJ77J9OiKB",
        "outputId": "362512d8-6cdc-4bdd-b112-4f08c8e33179"
      },
      "execution_count": null,
      "outputs": [
        {
          "output_type": "stream",
          "name": "stdout",
          "text": [
            "tf.Tensor([12. 10. 13. 13. 11. 13.], shape=(6,), dtype=float32)\n",
            "tf.Tensor([12. 10. 13. 13. 11. 13.], shape=(6,), dtype=float32)\n"
          ]
        }
      ]
    },
    {
      "cell_type": "markdown",
      "source": [
        "###Different shapes multiplication"
      ],
      "metadata": {
        "id": "YUtBx0QMkugQ"
      }
    },
    {
      "cell_type": "code",
      "source": [
        "# different shapes multiplication\n",
        "x_1 = tf.constant([[5,3,6,6,4,6],], dtype = tf.float32)\n",
        "x_2 = tf.constant([[7], [5], [3]], dtype = tf.float32)\n",
        "\n",
        "print(x_1.shape)\n",
        "print(x_2.shape)\n",
        "print(tf.math.multiply(x_1, x_2))"
      ],
      "metadata": {
        "colab": {
          "base_uri": "https://localhost:8080/"
        },
        "id": "4t6nqRzqP5Mq",
        "outputId": "8a11dd75-dfdd-4225-c8d9-ad4f4d9c57bc"
      },
      "execution_count": null,
      "outputs": [
        {
          "output_type": "stream",
          "name": "stdout",
          "text": [
            "(1, 6)\n",
            "(3, 1)\n",
            "tf.Tensor(\n",
            "[[35. 21. 42. 42. 28. 42.]\n",
            " [25. 15. 30. 30. 20. 30.]\n",
            " [15.  9. 18. 18. 12. 18.]], shape=(3, 6), dtype=float32)\n"
          ]
        }
      ]
    },
    {
      "cell_type": "markdown",
      "source": [
        "###Min and maximum arguments (tf.math.maximum/minimum)"
      ],
      "metadata": {
        "id": "k1a88hUzkzQa"
      }
    },
    {
      "cell_type": "code",
      "source": [
        "# min and maximum arguments\n",
        "# tf.math.maximum/minimum which gives the maximum/minimum of x and y element wise it gives the position of the index of the maximum value\n",
        "x_argmax = tf.constant([[2, 20, 30, 3, 6],\n",
        "                        [3, 11, 16, 1, 8],\n",
        "                        [14, 45, 23, 5, 27]])\n",
        "\n",
        "print(x_argmax.shape) # for minimum value uses (argmin)\n",
        "print(tf.math.argmax(x_argmax, 0)) # axis=0 → find the index (row number) of the maximum value in each column."
      ],
      "metadata": {
        "colab": {
          "base_uri": "https://localhost:8080/"
        },
        "id": "qpNkHvOfZPCD",
        "outputId": "1818a0d6-a9b6-464f-f1dd-32cbf5ff8e4d"
      },
      "execution_count": null,
      "outputs": [
        {
          "output_type": "stream",
          "name": "stdout",
          "text": [
            "(3, 5)\n",
            "tf.Tensor([2 2 0 2 2], shape=(5,), dtype=int64)\n"
          ]
        }
      ]
    },
    {
      "cell_type": "markdown",
      "source": [
        "###Power matricx [tf.pow()]"
      ],
      "metadata": {
        "id": "nOuEnizGk-Yf"
      }
    },
    {
      "cell_type": "code",
      "source": [
        "# Let's look at power matrix\n",
        "x = tf.constant([[2, 2], [3, 3]])\n",
        "y = tf.constant([[3, 0], [1, 4]]) # basically its 2^3, 2^0, 3^1, 3^4\n",
        "tf.pow(x, y)"
      ],
      "metadata": {
        "colab": {
          "base_uri": "https://localhost:8080/"
        },
        "id": "-60ll7CBbxI2",
        "outputId": "cbf438a2-829c-4ffe-bd20-cf8d69da3dfe"
      },
      "execution_count": null,
      "outputs": [
        {
          "output_type": "execute_result",
          "data": {
            "text/plain": [
              "<tf.Tensor: shape=(2, 2), dtype=int32, numpy=\n",
              "array([[ 8,  1],\n",
              "       [ 3, 81]], dtype=int32)>"
            ]
          },
          "metadata": {},
          "execution_count": 130
        }
      ]
    },
    {
      "cell_type": "code",
      "source": [
        "tf.pow(tf.constant(2) ,tf.constant(3))"
      ],
      "metadata": {
        "colab": {
          "base_uri": "https://localhost:8080/"
        },
        "id": "J4FvREd-dbYE",
        "outputId": "81dfa31c-8316-4429-cd3f-382c39a1cff4"
      },
      "execution_count": null,
      "outputs": [
        {
          "output_type": "execute_result",
          "data": {
            "text/plain": [
              "<tf.Tensor: shape=(), dtype=int32, numpy=8>"
            ]
          },
          "metadata": {},
          "execution_count": 131
        }
      ]
    },
    {
      "cell_type": "markdown",
      "source": [
        "### tf.math.reduce_sum()"
      ],
      "metadata": {
        "id": "VMoqMFBJlLml"
      }
    },
    {
      "cell_type": "code",
      "source": [
        "# Let's look at the tf.math.reduce_sum which computes the sum of elements across dimensions of a tensor\n",
        "tensor_two_d = tf.constant([ # basically sums up evertthing to get 35\n",
        "    [1,2,0], # you can also use max, min, etc\n",
        "    [3,5,-1],\n",
        "    [1,5,6],\n",
        "    [2,3,8]\n",
        "])\n",
        "\n",
        "print(tf.math.reduce_sum(tensor_two_d, axis=None, keepdims=False, name=None))"
      ],
      "metadata": {
        "colab": {
          "base_uri": "https://localhost:8080/"
        },
        "id": "VMNYzF7IdxM2",
        "outputId": "bb5570dc-c6af-4c70-e73b-7b13b5532a51"
      },
      "execution_count": null,
      "outputs": [
        {
          "output_type": "stream",
          "name": "stdout",
          "text": [
            "tf.Tensor(35, shape=(), dtype=int32)\n"
          ]
        }
      ]
    },
    {
      "cell_type": "code",
      "source": [
        "# Let's look at the tf.math.reduce_sum which computes the sum of elements across dimensions of a tensor\n",
        "tensor_two_d = tf.constant([ # basically sums up everything to get 35\n",
        "    [1,-2,0], # you can also use max, min, mean, standaerd diviation e.t.c\n",
        "    [3,5,100],\n",
        "    [1,5,6],\n",
        "    [2,3,8]\n",
        "])\n",
        "# With axis = 0 we will be adding column wise\n",
        "print(tensor_two_d.shape)\n",
        "print(tf.math.reduce_sum(tensor_two_d, axis=0, keepdims=False, name=None))"
      ],
      "metadata": {
        "colab": {
          "base_uri": "https://localhost:8080/"
        },
        "id": "Si3hzJo2jLwv",
        "outputId": "bf7f1812-c74c-4e6f-e9a9-0e77350318b1"
      },
      "execution_count": null,
      "outputs": [
        {
          "output_type": "stream",
          "name": "stdout",
          "text": [
            "(4, 3)\n",
            "tf.Tensor([  7  11 114], shape=(3,), dtype=int32)\n"
          ]
        }
      ]
    },
    {
      "cell_type": "markdown",
      "source": [
        "###tf.math.top_k()"
      ],
      "metadata": {
        "id": "AhfTgAjVlWJy"
      }
    },
    {
      "cell_type": "code",
      "source": [
        "# Let's look at tf.math.top_k which finds values and indices of the k largest entries for the last dimension\n",
        "# returns the top k largest elements along the last dimension of the 2D tensor tensor_two_d\n",
        "tf.math.top_k(tensor_two_d, k = 2) # Generally it returns the top 1 value and it's index"
      ],
      "metadata": {
        "colab": {
          "base_uri": "https://localhost:8080/"
        },
        "id": "NE-UrJF-qXxh",
        "outputId": "389a7ce6-30c4-4d4f-bb7d-47a5426d6db7"
      },
      "execution_count": null,
      "outputs": [
        {
          "output_type": "execute_result",
          "data": {
            "text/plain": [
              "TopKV2(values=<tf.Tensor: shape=(4, 2), dtype=int32, numpy=\n",
              "array([[  1,   0],\n",
              "       [100,   5],\n",
              "       [  6,   5],\n",
              "       [  8,   3]], dtype=int32)>, indices=<tf.Tensor: shape=(4, 2), dtype=int32, numpy=\n",
              "array([[0, 2],\n",
              "       [2, 1],\n",
              "       [2, 1],\n",
              "       [2, 1]], dtype=int32)>)"
            ]
          },
          "metadata": {},
          "execution_count": 134
        }
      ]
    },
    {
      "cell_type": "markdown",
      "source": [
        "## Linear Algebra Operations"
      ],
      "metadata": {
        "id": "hU5YEshcBs93"
      }
    },
    {
      "cell_type": "markdown",
      "source": [
        "###tf.linalg.matmul()"
      ],
      "metadata": {
        "id": "lcTh209wldI3"
      }
    },
    {
      "cell_type": "code",
      "source": [
        "# Let's look at the tf.linalg.matmul, note that this is different from normal multiplication\n",
        "# It multiplies matrix a by matrix b, producing a*b\n",
        "x_1 = tf.constant([[1,2,0],\n",
        "                   [3,5,-1]])\n",
        "x_2 = tf.constant([[1,2,0,9],\n",
        "                   [3,5,-1,6],\n",
        "                  [4,5,6,3]])\n",
        "\n",
        "print(x_1.shape, x_2.shape)\n",
        "tf.linalg.matmul(\n",
        "    x_1, x_2, transpose_a=False, transpose_b=False, adjoint_a=False,\n",
        "    adjoint_b=False, a_is_sparse=False, b_is_sparse=False, output_type=None, name=None\n",
        ")"
      ],
      "metadata": {
        "colab": {
          "base_uri": "https://localhost:8080/"
        },
        "id": "6my9yV6T9OOE",
        "outputId": "52950b21-860f-4a9d-d645-1eb6a5bda5f1"
      },
      "execution_count": null,
      "outputs": [
        {
          "output_type": "stream",
          "name": "stdout",
          "text": [
            "(2, 3) (3, 4)\n"
          ]
        },
        {
          "output_type": "execute_result",
          "data": {
            "text/plain": [
              "<tf.Tensor: shape=(2, 4), dtype=int32, numpy=\n",
              "array([[  7,  12,  -2,  21],\n",
              "       [ 14,  26, -11,  54]], dtype=int32)>"
            ]
          },
          "metadata": {},
          "execution_count": 135
        }
      ]
    },
    {
      "cell_type": "code",
      "source": [
        "# We can also do matrix multiplication using @\n",
        "print(x_1 @ x_2) # this is matrix wise multiplication. For elemt wise multiplication we use print(x_1 * x_2)"
      ],
      "metadata": {
        "colab": {
          "base_uri": "https://localhost:8080/"
        },
        "id": "GhdIeD76DR6Y",
        "outputId": "ad5c5e3b-3dce-4c25-c044-0488f988dbc5"
      },
      "execution_count": null,
      "outputs": [
        {
          "output_type": "stream",
          "name": "stdout",
          "text": [
            "tf.Tensor(\n",
            "[[  7  12  -2  21]\n",
            " [ 14  26 -11  54]], shape=(2, 4), dtype=int32)\n"
          ]
        }
      ]
    },
    {
      "cell_type": "markdown",
      "source": [
        "###tf.transpose()"
      ],
      "metadata": {
        "id": "cShWDLMmlk0z"
      }
    },
    {
      "cell_type": "code",
      "source": [
        "# Now lets look at matrix transpose which is obtained by flipping the original matrix over its main diagonal\n",
        "x_1"
      ],
      "metadata": {
        "colab": {
          "base_uri": "https://localhost:8080/"
        },
        "id": "8_QU_-hNDxQB",
        "outputId": "51196a03-482b-4b75-d5ab-6dec7edcbcaf"
      },
      "execution_count": null,
      "outputs": [
        {
          "output_type": "execute_result",
          "data": {
            "text/plain": [
              "<tf.Tensor: shape=(2, 3), dtype=int32, numpy=\n",
              "array([[ 1,  2,  0],\n",
              "       [ 3,  5, -1]], dtype=int32)>"
            ]
          },
          "metadata": {},
          "execution_count": 137
        }
      ]
    },
    {
      "cell_type": "code",
      "source": [
        "tf.transpose(x_1) # i.e rows becomes columns and columns become rows"
      ],
      "metadata": {
        "colab": {
          "base_uri": "https://localhost:8080/"
        },
        "id": "TBHf4o_VFFQ3",
        "outputId": "26bdd35a-2c32-479a-961d-0ef357022857"
      },
      "execution_count": null,
      "outputs": [
        {
          "output_type": "execute_result",
          "data": {
            "text/plain": [
              "<tf.Tensor: shape=(3, 2), dtype=int32, numpy=\n",
              "array([[ 1,  3],\n",
              "       [ 2,  5],\n",
              "       [ 0, -1]], dtype=int32)>"
            ]
          },
          "metadata": {},
          "execution_count": 138
        }
      ]
    },
    {
      "cell_type": "markdown",
      "source": [
        "###tf.linalg.band_part"
      ],
      "metadata": {
        "id": "9ndQloH5lwZx"
      }
    },
    {
      "cell_type": "code",
      "source": [
        "# Let's look at the tf.linalg.band_part matrix\n",
        "# Copys a tensor setting everything outside a central band in each inner most matrix to zero\n",
        "tensor_two_d = tf.constant([[1,-2,0],\n",
        "                            [3,5,100],\n",
        "                            [1,5,6],\n",
        "                            [2,3,8]], dtype=tf.float32) # Changed dtype to tf.float32\n",
        "\n",
        "\n",
        "#### ( m-n <= lower) and ( n-m <= upper)\n",
        "# m -- rows, n --- columns\n",
        "tf.linalg.band_part(tensor_two_d, 0, 0)"
      ],
      "metadata": {
        "colab": {
          "base_uri": "https://localhost:8080/"
        },
        "id": "pplqJ-iYQTon",
        "outputId": "57deb54c-8a24-4a2b-ac0d-73227721fe6b"
      },
      "execution_count": null,
      "outputs": [
        {
          "output_type": "execute_result",
          "data": {
            "text/plain": [
              "<tf.Tensor: shape=(4, 3), dtype=float32, numpy=\n",
              "array([[1., 0., 0.],\n",
              "       [0., 5., 0.],\n",
              "       [0., 0., 6.],\n",
              "       [0., 0., 0.]], dtype=float32)>"
            ]
          },
          "metadata": {},
          "execution_count": 139
        }
      ]
    },
    {
      "cell_type": "markdown",
      "source": [
        "###tf.linalg.inv() inverse of a matrix"
      ],
      "metadata": {
        "id": "WSsLdJiFl3o2"
      }
    },
    {
      "cell_type": "code",
      "source": [
        "# Now lets look at the inverse of a matrix\n",
        "tensor_two_d"
      ],
      "metadata": {
        "colab": {
          "base_uri": "https://localhost:8080/"
        },
        "id": "nz1GyBWmdHBc",
        "outputId": "154720c8-527e-45bd-b0f2-ba8eb23cbb92"
      },
      "execution_count": null,
      "outputs": [
        {
          "output_type": "execute_result",
          "data": {
            "text/plain": [
              "<tf.Tensor: shape=(4, 3), dtype=float32, numpy=\n",
              "array([[  1.,  -2.,   0.],\n",
              "       [  3.,   5., 100.],\n",
              "       [  1.,   5.,   6.],\n",
              "       [  2.,   3.,   8.]], dtype=float32)>"
            ]
          },
          "metadata": {},
          "execution_count": 140
        }
      ]
    },
    {
      "cell_type": "code",
      "source": [
        "# Determining the inverse of tensor_two_d\n",
        "tensor_two_d_inv = tf.constant([[1,21,3],\n",
        "                           [9,11,6],\n",
        "                           [7,8,9]], dtype=tf.float32)\n",
        "tf.linalg.inv(tensor_two_d_inv) # for us to get an inverse of a matrix it has to be a square matrix, the number or rows must equal the number of columns"
      ],
      "metadata": {
        "colab": {
          "base_uri": "https://localhost:8080/"
        },
        "id": "w_SRWDsCdSxM",
        "outputId": "e92cc8e7-92b7-4efc-efb5-90ee45eae6d4"
      },
      "execution_count": null,
      "outputs": [
        {
          "output_type": "execute_result",
          "data": {
            "text/plain": [
              "<tf.Tensor: shape=(3, 3), dtype=float32, numpy=\n",
              "array([[-0.06513409,  0.21072799, -0.11877395],\n",
              "       [ 0.04980843,  0.01532567, -0.02681992],\n",
              "       [ 0.00638569, -0.17752236,  0.22733079]], dtype=float32)>"
            ]
          },
          "metadata": {},
          "execution_count": 141
        }
      ]
    },
    {
      "cell_type": "markdown",
      "source": [
        "####Singular Value Decomposition (svd)\n",
        "𝐴\n",
        "A, the SVD is:\n",
        "\n",
        "𝐴\n",
        "=\n",
        "𝑈\n",
        "⋅\n",
        "𝑆\n",
        "⋅\n",
        "𝑉\n",
        "𝑇\n",
        "A=U⋅S⋅V\n",
        "T\n",
        "\n",
        "Where:\n",
        "\n",
        "𝑈\n",
        "U = left singular vectors (orthogonal)\n",
        "\n",
        "𝑆\n",
        "S = singular values (diagonal matrix or vector)\n",
        "\n",
        "𝑉\n",
        "𝑇\n",
        "V\n",
        "T\n",
        "  = transpose of the right singular vectors (orthogonal)\n",
        "\n"
      ],
      "metadata": {
        "id": "MsGyZtFajB1K"
      }
    },
    {
      "cell_type": "code",
      "source": [
        "# Lets look at tf.linalg.svd\n",
        "# Computes the singular value decompositions of one or more matrices\n",
        "tensor_two_d"
      ],
      "metadata": {
        "colab": {
          "base_uri": "https://localhost:8080/"
        },
        "id": "Mg6xGdExg1UU",
        "outputId": "add6095a-31fc-4d4d-aa13-4a24ab11c50b"
      },
      "execution_count": null,
      "outputs": [
        {
          "output_type": "execute_result",
          "data": {
            "text/plain": [
              "<tf.Tensor: shape=(4, 3), dtype=float32, numpy=\n",
              "array([[  1.,  -2.,   0.],\n",
              "       [  3.,   5., 100.],\n",
              "       [  1.,   5.,   6.],\n",
              "       [  2.,   3.,   8.]], dtype=float32)>"
            ]
          },
          "metadata": {},
          "execution_count": 142
        }
      ]
    },
    {
      "cell_type": "code",
      "source": [
        "# Singular Value Decomposition\n",
        "s,u,v = tf.linalg.svd(tensor_two_d)\n",
        "print(s)\n",
        "print(u)\n",
        "print(v)"
      ],
      "metadata": {
        "colab": {
          "base_uri": "https://localhost:8080/"
        },
        "id": "bGczX7hriEj4",
        "outputId": "f39a1428-1cd9-4c79-80ea-114d606a71d2"
      },
      "execution_count": null,
      "outputs": [
        {
          "output_type": "stream",
          "name": "stdout",
          "text": [
            "tf.Tensor([100.70144     5.8190866   1.8329673], shape=(3,), dtype=float32)\n",
            "tf.Tensor(\n",
            "[[-7.74652755e-04 -2.99280852e-01  7.63974667e-01]\n",
            " [ 9.94706869e-01 -9.16284993e-02 -4.46390249e-02]\n",
            " [ 6.25059605e-02  8.12258899e-01 -1.08075924e-01]\n",
            " [ 8.15519020e-02  4.92210150e-01  6.34563029e-01]], shape=(4, 3), dtype=float32)\n",
            "tf.Tensor(\n",
            "[[ 0.03186604  0.21008667  0.9771634 ]\n",
            " [ 0.05493734  0.97581375 -0.21158805]\n",
            " [ 0.99798125 -0.06042523 -0.01955372]], shape=(3, 3), dtype=float32)\n"
          ]
        }
      ]
    },
    {
      "cell_type": "markdown",
      "source": [
        "##Einsum Operator\n",
        "- lets you define element-wise, matrix, or batch operations using subscripts to describe the dimensions being used or reduced.\n",
        "- A = shape 2,2 and B = shape 2,2\n",
        "- Matrix multiplication A@B\n",
        "- result = tf.einsum('ik,kj->ij', A, B)"
      ],
      "metadata": {
        "id": "dVRIYU77kMOU"
      }
    },
    {
      "cell_type": "code",
      "source": [
        "# Let's see how Einsum Operator works\n",
        "import numpy as np"
      ],
      "metadata": {
        "id": "Il_tOpeBk3E6"
      },
      "execution_count": null,
      "outputs": []
    },
    {
      "cell_type": "code",
      "source": [
        "A = np.array([[2, 6, 5,2],\n",
        "              [2, -2, 2, 3],\n",
        "              [1, 5, 4, 0]])\n",
        "\n",
        "B = np.array([[2, 9, 0, 3, 0],\n",
        "              [3, 6, 8, -2, 2],\n",
        "              [1, 3, 5, 0, 1],\n",
        "              [3, 0, 2, 0, 5]])\n",
        "\n",
        "print(A.shape)\n",
        "print(B.shape)\n",
        "\n",
        "print(\"Matmul C = 1 \\n\")\n",
        "print(np.matmul(A,B), \"\\n\")\n",
        "\n",
        "print(\"Einsum C =: \\n\")\n",
        "print(np.einsum('ij,jk -> ik', A,B))"
      ],
      "metadata": {
        "colab": {
          "base_uri": "https://localhost:8080/"
        },
        "id": "Z3Ojc3V9mds2",
        "outputId": "c6bf7540-b547-44e2-848c-b2655717693c"
      },
      "execution_count": null,
      "outputs": [
        {
          "output_type": "stream",
          "name": "stdout",
          "text": [
            "(3, 4)\n",
            "(4, 5)\n",
            "Matmul C = 1 \n",
            "\n",
            "[[33 69 77 -6 27]\n",
            " [ 9 12  0 10 13]\n",
            " [21 51 60 -7 14]] \n",
            "\n",
            "Einsum C =: \n",
            "\n",
            "[[33 69 77 -6 27]\n",
            " [ 9 12  0 10 13]\n",
            " [21 51 60 -7 14]]\n"
          ]
        }
      ]
    },
    {
      "cell_type": "markdown",
      "source": [
        "###Multiply matrix with same shape"
      ],
      "metadata": {
        "id": "oS-5mCeymjST"
      }
    },
    {
      "cell_type": "code",
      "source": [
        "# But we can also multiply a matrix with same shape as seen below\n",
        "A = np.array([[2, 6, 5, 2],\n",
        "              [2, -2, 2, 3],\n",
        "              [1, 5, 4, 0]])\n",
        "\n",
        "B =  np.array([[2, 9, 0, 3],\n",
        "               [3, 6, 8, -2],\n",
        "               [1, 3, 5, 0]])\n",
        "\n",
        "print(A.shape, B.shape)\n",
        "\n",
        "print(\"Hardamond C =: \\n\")\n",
        "print(A*B, \"\\n\")\n",
        "\n",
        "print(\"Einsum C =:\\n\")\n",
        "print(np.einsum('ij,ij -> ij', A,B)) # Multiply matching indices from both matrices and output a matrix of same shape.\n"
      ],
      "metadata": {
        "colab": {
          "base_uri": "https://localhost:8080/"
        },
        "id": "l37bRcwSqD73",
        "outputId": "1a200585-479e-4083-a1e0-4e675adf8c14"
      },
      "execution_count": null,
      "outputs": [
        {
          "output_type": "stream",
          "name": "stdout",
          "text": [
            "(3, 4) (3, 4)\n",
            "Hardamond C =: \n",
            "\n",
            "[[  4  54   0   6]\n",
            " [  6 -12  16  -6]\n",
            " [  1  15  20   0]] \n",
            "\n",
            "Einsum C =:\n",
            "\n",
            "[[  4  54   0   6]\n",
            " [  6 -12  16  -6]\n",
            " [  1  15  20   0]]\n"
          ]
        }
      ]
    },
    {
      "cell_type": "markdown",
      "source": [
        "###Transpose using einsum"
      ],
      "metadata": {
        "id": "MEI4gT_xmp9P"
      }
    },
    {
      "cell_type": "code",
      "source": [
        "# We can also transpose our matrix using the same method\n",
        "A = np.array([[2, 6, 5, 2],\n",
        "              [2, -2, 2, 3],\n",
        "              [1, 5, 4, 0]])\n",
        "\n",
        "print(\"Transposed A =: \\n\")\n",
        "print(A.T, \"\\n\")\n",
        "\n",
        "print(\"Einsum Transpose A =: \\n\")\n",
        "print(np.einsum(\"ij -> ji\", A))"
      ],
      "metadata": {
        "colab": {
          "base_uri": "https://localhost:8080/"
        },
        "id": "gIdupx-fx1wk",
        "outputId": "20f7c163-7b6d-4096-ff83-d47f9e460fe7"
      },
      "execution_count": null,
      "outputs": [
        {
          "output_type": "stream",
          "name": "stdout",
          "text": [
            "Transposed A =: \n",
            "\n",
            "[[ 2  2  1]\n",
            " [ 6 -2  5]\n",
            " [ 5  2  4]\n",
            " [ 2  3  0]] \n",
            "\n",
            "Einsum Transpose A =: \n",
            "\n",
            "[[ 2  2  1]\n",
            " [ 6 -2  5]\n",
            " [ 5  2  4]\n",
            " [ 2  3  0]]\n"
          ]
        }
      ]
    },
    {
      "cell_type": "markdown",
      "source": [
        "###Working with 3D arrays using einsum"
      ],
      "metadata": {
        "id": "3WGc9Yh1yxsZ"
      }
    },
    {
      "cell_type": "markdown",
      "source": [
        "####Batch multiplication"
      ],
      "metadata": {
        "id": "tjzNfA-Im_rx"
      }
    },
    {
      "cell_type": "code",
      "source": [
        "A = np.array([\n",
        "    [[2, 6, 5, 2],\n",
        "     [2, -2, 2, 3],\n",
        "     [1, 5, 4, 0]],\n",
        "\n",
        "    [[1, 3, 1, 22],\n",
        "     [0, 2, 2, 0],\n",
        "     [1, 5, 4, 1]]\n",
        "])\n",
        "\n",
        "B = np.array([\n",
        "    [[2, 9, 0, 3, 0],\n",
        "     [3, 6, 8, -2, 2],\n",
        "     [1, 3, 5, 0, 1],\n",
        "     [3, 0, 1, 1, 0]]\n",
        "])\n",
        "\n",
        "print(\"Batch Multiplication C =: \\n\")\n",
        "print(np.matmul(A,B), \"\\n\")\n",
        "\n",
        "print(\"Einsum C =: \\n\")\n",
        "print(np.einsum('bij,bjk -> bik', A,B))"
      ],
      "metadata": {
        "colab": {
          "base_uri": "https://localhost:8080/"
        },
        "id": "-mvEsNKSy2U3",
        "outputId": "df738aaa-5e5d-4b47-920b-7daf633aead9"
      },
      "execution_count": null,
      "outputs": [
        {
          "output_type": "stream",
          "name": "stdout",
          "text": [
            "Batch Multiplication C =: \n",
            "\n",
            "[[[33 69 75 -4 17]\n",
            "  [ 9 12 -3 13 -2]\n",
            "  [21 51 60 -7 14]]\n",
            "\n",
            " [[78 30 51 19  7]\n",
            "  [ 8 18 26 -4  6]\n",
            "  [24 51 61 -6 14]]] \n",
            "\n",
            "Einsum C =: \n",
            "\n",
            "[[[33 69 75 -4 17]\n",
            "  [ 9 12 -3 13 -2]\n",
            "  [21 51 60 -7 14]]\n",
            "\n",
            " [[78 30 51 19  7]\n",
            "  [ 8 18 26 -4  6]\n",
            "  [24 51 61 -6 14]]]\n"
          ]
        }
      ]
    },
    {
      "cell_type": "markdown",
      "source": [
        "###summing"
      ],
      "metadata": {
        "id": "XaBs6CxOmzkG"
      }
    },
    {
      "cell_type": "code",
      "source": [
        "# Summing\n",
        "A = np.array([\n",
        "    [[2, 6, 5, 2],\n",
        "     [2, -2, 2, 3],\n",
        "     [1, 5, 4, 0]],\n",
        "\n",
        "    [[1, 3, 1, 22],\n",
        "     [0, 2, 2, 0],\n",
        "     [1, 5, 4, 1]]\n",
        "])\n",
        "\n",
        "print(\"Sum A =: \\n\")\n",
        "print(np.sum(A), \"\\n\")\n",
        "\n",
        "print(\"Einsum A =: \\n\")\n",
        "print(np.einsum('bij -> ', A)) # The space between (-> and ') means taht we are summing up all the values\n",
        "# In that space we can also put a letter to denote only sum up elemnt of that column e.g. \"j\""
      ],
      "metadata": {
        "colab": {
          "base_uri": "https://localhost:8080/"
        },
        "id": "Z7t-2IwoHqRD",
        "outputId": "e99316ea-287a-471d-87ad-2d6e8d2584e8"
      },
      "execution_count": null,
      "outputs": [
        {
          "output_type": "stream",
          "name": "stdout",
          "text": [
            "Sum A =: \n",
            "\n",
            "72 \n",
            "\n",
            "Einsum A =: \n",
            "\n",
            "72\n"
          ]
        }
      ]
    },
    {
      "cell_type": "code",
      "source": [
        "# For softmax Q query and K key we use the matrix computing dot produc\n",
        "# Q.K^T/scaling\n",
        "# Q = batchsize, s_q, modelsize\n",
        "# K = batchsize, s_k, modelsize"
      ],
      "metadata": {
        "id": "c9zRm8JNJpOD"
      },
      "execution_count": null,
      "outputs": []
    },
    {
      "cell_type": "code",
      "source": [
        "Q = np.random.randn(32, 64, 512) # Queries\n",
        "K = np.random.randn(32, 128, 512) # Keys"
      ],
      "metadata": {
        "id": "kB7v-svmKe7V"
      },
      "execution_count": null,
      "outputs": []
    },
    {
      "cell_type": "code",
      "source": [
        "np.einsum(\"bqm,bkm -> bqk\", Q, K).shape"
      ],
      "metadata": {
        "colab": {
          "base_uri": "https://localhost:8080/"
        },
        "id": "zMNSZKVqKxL_",
        "outputId": "0825f0ca-e400-41a5-fe47-d127833fcf59"
      },
      "execution_count": null,
      "outputs": [
        {
          "output_type": "execute_result",
          "data": {
            "text/plain": [
              "(32, 64, 128)"
            ]
          },
          "metadata": {},
          "execution_count": 152
        }
      ]
    },
    {
      "cell_type": "markdown",
      "source": [
        "###Transpose"
      ],
      "metadata": {
        "id": "IGm0e-fmnJO3"
      }
    },
    {
      "cell_type": "code",
      "source": [
        "A = np.random.randn(2, 4, 4, 2)# bcij\n",
        "B = np.random.randn(2, 4, 4, 1)# bcik"
      ],
      "metadata": {
        "id": "5GIIWncHMjDJ"
      },
      "execution_count": null,
      "outputs": []
    },
    {
      "cell_type": "code",
      "source": [
        "np.einsum(\"bcik,bcij -> bckj\", B, A)"
      ],
      "metadata": {
        "colab": {
          "base_uri": "https://localhost:8080/"
        },
        "id": "KMM973iYYOx0",
        "outputId": "561819be-d62b-4e5f-fc29-b19f276db3b0"
      },
      "execution_count": null,
      "outputs": [
        {
          "output_type": "execute_result",
          "data": {
            "text/plain": [
              "array([[[[ 0.05937029,  0.42758002]],\n",
              "\n",
              "        [[ 1.23185766,  2.57193061]],\n",
              "\n",
              "        [[-2.04515308, -1.41332738]],\n",
              "\n",
              "        [[ 0.93346501,  1.15455629]]],\n",
              "\n",
              "\n",
              "       [[[ 0.52232111, -3.30105119]],\n",
              "\n",
              "        [[ 0.19183529,  1.0738897 ]],\n",
              "\n",
              "        [[ 0.90255255, -0.19420842]],\n",
              "\n",
              "        [[-0.45649071,  0.07310286]]]])"
            ]
          },
          "metadata": {},
          "execution_count": 154
        }
      ]
    },
    {
      "cell_type": "code",
      "source": [
        "np.matmul(np.transpose(B, (0,1,3,2)), A)"
      ],
      "metadata": {
        "colab": {
          "base_uri": "https://localhost:8080/"
        },
        "id": "wqX-MSHGYxaw",
        "outputId": "19ec5b12-5a87-4206-eaf9-8d424c3d4503"
      },
      "execution_count": null,
      "outputs": [
        {
          "output_type": "execute_result",
          "data": {
            "text/plain": [
              "array([[[[ 0.05937029,  0.42758002]],\n",
              "\n",
              "        [[ 1.23185766,  2.57193061]],\n",
              "\n",
              "        [[-2.04515308, -1.41332738]],\n",
              "\n",
              "        [[ 0.93346501,  1.15455629]]],\n",
              "\n",
              "\n",
              "       [[[ 0.52232111, -3.30105119]],\n",
              "\n",
              "        [[ 0.19183529,  1.0738897 ]],\n",
              "\n",
              "        [[ 0.90255255, -0.19420842]],\n",
              "\n",
              "        [[-0.45649071,  0.07310286]]]])"
            ]
          },
          "metadata": {},
          "execution_count": 155
        }
      ]
    },
    {
      "cell_type": "markdown",
      "source": [
        "##Common Tensorflow Functions\n"
      ],
      "metadata": {
        "id": "oAIAoixaZzT5"
      }
    },
    {
      "cell_type": "markdown",
      "source": [
        "###tf.expand_dims\n",
        "- It returns a tensor with a length 1 axis inserted at index axis"
      ],
      "metadata": {
        "id": "FITp0Mbzjxhh"
      }
    },
    {
      "cell_type": "code",
      "source": [
        "tensor_three_d = tf.constant([\n",
        "    [[1,2,0],\n",
        "     [3,5,-1]],\n",
        "\n",
        "    [[10,2,0],\n",
        "     [1,0,2]],\n",
        "\n",
        "    [[5,8,0],\n",
        "     [2,7,0]],\n",
        "\n",
        "    [[2,1,9],\n",
        "     [4,-3,32]]\n",
        "\n",
        "])\n",
        "print(tensor_three_d.shape)\n",
        "print(tf.expand_dims(tensor_three_d, axis = 0))"
      ],
      "metadata": {
        "colab": {
          "base_uri": "https://localhost:8080/"
        },
        "id": "cKgUwdF6cP6x",
        "outputId": "6ae0d6e3-d2e4-4644-feed-2cec3aacc08c"
      },
      "execution_count": null,
      "outputs": [
        {
          "output_type": "stream",
          "name": "stdout",
          "text": [
            "(4, 2, 3)\n",
            "tf.Tensor(\n",
            "[[[[ 1  2  0]\n",
            "   [ 3  5 -1]]\n",
            "\n",
            "  [[10  2  0]\n",
            "   [ 1  0  2]]\n",
            "\n",
            "  [[ 5  8  0]\n",
            "   [ 2  7  0]]\n",
            "\n",
            "  [[ 2  1  9]\n",
            "   [ 4 -3 32]]]], shape=(1, 4, 2, 3), dtype=int32)\n"
          ]
        }
      ]
    },
    {
      "cell_type": "markdown",
      "source": [
        "###tf.squeeze\n",
        "- Removes dimensions of size 1 from the shape of a tensor"
      ],
      "metadata": {
        "id": "7CO5v3fedWou"
      }
    },
    {
      "cell_type": "code",
      "source": [
        "x = tf.constant([[[2,3,4,5]]])\n",
        "print(x.shape)\n",
        "x_expanded = tf.expand_dims(x, axis = 0)\n",
        "print(x_expanded.shape)"
      ],
      "metadata": {
        "colab": {
          "base_uri": "https://localhost:8080/"
        },
        "id": "MQC5X1UzdgpL",
        "outputId": "614a6e5c-20f7-4a07-e2a0-2c28f6ce58ee"
      },
      "execution_count": null,
      "outputs": [
        {
          "output_type": "stream",
          "name": "stdout",
          "text": [
            "(1, 1, 4)\n",
            "(1, 1, 1, 4)\n"
          ]
        }
      ]
    },
    {
      "cell_type": "code",
      "source": [
        "x_squeezed = tf.squeeze(x_expanded, axis = 0)\n",
        "print(x_squeezed.shape)"
      ],
      "metadata": {
        "colab": {
          "base_uri": "https://localhost:8080/"
        },
        "id": "9zxR8HvPfSQa",
        "outputId": "5693135f-38b8-4beb-dd15-efe37ec9872b"
      },
      "execution_count": null,
      "outputs": [
        {
          "output_type": "stream",
          "name": "stdout",
          "text": [
            "(1, 1, 4)\n"
          ]
        }
      ]
    },
    {
      "cell_type": "markdown",
      "source": [
        "###tf.reshape\n",
        "- Basically reshapes a tensor"
      ],
      "metadata": {
        "id": "9cEqsz3TgdSP"
      }
    },
    {
      "cell_type": "code",
      "source": [
        "x_squeezed = tf.squeeze(x_expanded, axis = 0)\n",
        "print(x_squeezed.shape)\n",
        "print(tf.reshape(x_squeezed, [4]).shape) # NOTE you need to provide a target shape that has same number of elemnts as the imnput tensor\n"
      ],
      "metadata": {
        "colab": {
          "base_uri": "https://localhost:8080/"
        },
        "id": "gWr5QKnPgkfY",
        "outputId": "4f02ce4c-0792-447a-895b-909fc53423b5"
      },
      "execution_count": null,
      "outputs": [
        {
          "output_type": "stream",
          "name": "stdout",
          "text": [
            "(1, 1, 4)\n",
            "(4,)\n"
          ]
        }
      ]
    },
    {
      "cell_type": "code",
      "source": [
        "x_reshape = tf.constant([[3,5,6,6],\n",
        "                         [4,6,-1,2]])\n",
        "\n",
        "tf.reshape(x_reshape, [8,1]) # Basically ensure when you multiply the shapes you get same answer e.g 4*2 and 1*8"
      ],
      "metadata": {
        "colab": {
          "base_uri": "https://localhost:8080/"
        },
        "id": "3xOycxrAiXIu",
        "outputId": "7494b6b5-d878-4a80-c84b-48164ec78c9b"
      },
      "execution_count": null,
      "outputs": [
        {
          "output_type": "execute_result",
          "data": {
            "text/plain": [
              "<tf.Tensor: shape=(8, 1), dtype=int32, numpy=\n",
              "array([[ 3],\n",
              "       [ 5],\n",
              "       [ 6],\n",
              "       [ 6],\n",
              "       [ 4],\n",
              "       [ 6],\n",
              "       [-1],\n",
              "       [ 2]], dtype=int32)>"
            ]
          },
          "metadata": {},
          "execution_count": 160
        }
      ]
    },
    {
      "cell_type": "markdown",
      "source": [
        "###tf.concat\n",
        "- It concentr\n",
        "- NOTE axis = 0 means across the rows, axis = 1 means across the columns"
      ],
      "metadata": {
        "id": "tTXvPXf4jRal"
      }
    },
    {
      "cell_type": "code",
      "source": [
        "t1 = [[1,2,3],\n",
        "      [4,5,6]]\n",
        "\n",
        "t2 = [[7,8,9],\n",
        "      [10,11,12]]\n",
        "\n",
        "print(tf.constant(t1).shape)\n",
        "print(tf.constant(t2).shape)\n",
        "\n",
        "tf.concat([t1, t2], axis = 0) # It's like satcking the 2x3 matrices on top of each other\n"
      ],
      "metadata": {
        "colab": {
          "base_uri": "https://localhost:8080/"
        },
        "id": "5udwJ_mNjoO3",
        "outputId": "b5b28da9-9154-4b85-b933-6e21fc980b39"
      },
      "execution_count": null,
      "outputs": [
        {
          "output_type": "stream",
          "name": "stdout",
          "text": [
            "(2, 3)\n",
            "(2, 3)\n"
          ]
        },
        {
          "output_type": "execute_result",
          "data": {
            "text/plain": [
              "<tf.Tensor: shape=(4, 3), dtype=int32, numpy=\n",
              "array([[ 1,  2,  3],\n",
              "       [ 4,  5,  6],\n",
              "       [ 7,  8,  9],\n",
              "       [10, 11, 12]], dtype=int32)>"
            ]
          },
          "metadata": {},
          "execution_count": 161
        }
      ]
    },
    {
      "cell_type": "markdown",
      "source": [
        "###tf.stack( )\n",
        "- Adds a new dimension (axis) at the specified position"
      ],
      "metadata": {
        "id": "uoAVlmburw83"
      }
    },
    {
      "cell_type": "code",
      "source": [
        "tf.stack([t1,t2, t1], axis = 1)"
      ],
      "metadata": {
        "colab": {
          "base_uri": "https://localhost:8080/"
        },
        "id": "VA8piex9qvQe",
        "outputId": "22af2ba8-b225-4a6f-d8d3-4d9fd2fbc5a4"
      },
      "execution_count": null,
      "outputs": [
        {
          "output_type": "execute_result",
          "data": {
            "text/plain": [
              "<tf.Tensor: shape=(2, 3, 3), dtype=int32, numpy=\n",
              "array([[[ 1,  2,  3],\n",
              "        [ 7,  8,  9],\n",
              "        [ 1,  2,  3]],\n",
              "\n",
              "       [[ 4,  5,  6],\n",
              "        [10, 11, 12],\n",
              "        [ 4,  5,  6]]], dtype=int32)>"
            ]
          },
          "metadata": {},
          "execution_count": 162
        }
      ]
    },
    {
      "cell_type": "markdown",
      "source": [
        "###tf.stack( ) is same as tf.concat([tf.expand_dims(t, axis)"
      ],
      "metadata": {
        "id": "hyGVbJTTu8Lj"
      }
    },
    {
      "cell_type": "code",
      "source": [
        "tf.concat([tf.expand_dims(t, axis = 0) for t in [t1,t2,t1]], axis = 1)"
      ],
      "metadata": {
        "colab": {
          "base_uri": "https://localhost:8080/"
        },
        "id": "TTfDZCpVr_Bs",
        "outputId": "347735fa-3eaa-49be-9a97-7d272a787907"
      },
      "execution_count": null,
      "outputs": [
        {
          "output_type": "execute_result",
          "data": {
            "text/plain": [
              "<tf.Tensor: shape=(1, 6, 3), dtype=int32, numpy=\n",
              "array([[[ 1,  2,  3],\n",
              "        [ 4,  5,  6],\n",
              "        [ 7,  8,  9],\n",
              "        [10, 11, 12],\n",
              "        [ 1,  2,  3],\n",
              "        [ 4,  5,  6]]], dtype=int32)>"
            ]
          },
          "metadata": {},
          "execution_count": 163
        }
      ]
    },
    {
      "cell_type": "markdown",
      "source": [
        "###tf.pad\n",
        "- Used to add padding (extra values like zeros) to a tensor along one or more dimensions."
      ],
      "metadata": {
        "id": "1B9o3tMkvJPr"
      }
    },
    {
      "cell_type": "code",
      "source": [
        "t = tf.constant([[1,2,3], [4,5,6]])\n",
        "paddings = tf.constant([[1,1,], # pad 1 row on top, 1 on bottom (adustable)\n",
        "                        [2,2]]) # pad 2 columns left, 2 right (adjustable)\n",
        "\n",
        "tf.pad(t, paddings, \"CONSTANT\", constant_values = 0)\n",
        "# we can also use (\"REFLECT\",\"SYMMETRIC\") in place of constant"
      ],
      "metadata": {
        "colab": {
          "base_uri": "https://localhost:8080/"
        },
        "id": "-z8BlCmd0Uip",
        "outputId": "059f1fed-d6e8-4e24-fdb5-815a0fe020b9"
      },
      "execution_count": null,
      "outputs": [
        {
          "output_type": "execute_result",
          "data": {
            "text/plain": [
              "<tf.Tensor: shape=(4, 7), dtype=int32, numpy=\n",
              "array([[0, 0, 0, 0, 0, 0, 0],\n",
              "       [0, 0, 1, 2, 3, 0, 0],\n",
              "       [0, 0, 4, 5, 6, 0, 0],\n",
              "       [0, 0, 0, 0, 0, 0, 0]], dtype=int32)>"
            ]
          },
          "metadata": {},
          "execution_count": 164
        }
      ]
    },
    {
      "cell_type": "markdown",
      "source": [
        "###tf.gather\n",
        "- Used to extract specific indices from a tensor along an axis (default is axis 0)\n",
        "- Gather slices from params axis according to indices\n",
        "- Indeces must be an integer tensors of any dimension often 1 - D"
      ],
      "metadata": {
        "id": "Qzpix58Y2gpT"
      }
    },
    {
      "cell_type": "code",
      "source": [
        "params = tf.constant(['p0', 'p1', 'p2', 'p3', 'p4', 'p5'])\n",
        "params[1:3+1] # is shorthand for params[1:4]\n",
        "# This slices from index 1 (inclusive) to index 4 (exclusive)"
      ],
      "metadata": {
        "colab": {
          "base_uri": "https://localhost:8080/"
        },
        "id": "R02eDZV82y58",
        "outputId": "21042e73-c2b6-4326-d014-c26dbab26c74"
      },
      "execution_count": null,
      "outputs": [
        {
          "output_type": "execute_result",
          "data": {
            "text/plain": [
              "<tf.Tensor: shape=(3,), dtype=string, numpy=array([b'p1', b'p2', b'p3'], dtype=object)>"
            ]
          },
          "metadata": {},
          "execution_count": 165
        }
      ]
    },
    {
      "cell_type": "code",
      "source": [
        "tf.gather(params, [1,2,3])"
      ],
      "metadata": {
        "colab": {
          "base_uri": "https://localhost:8080/"
        },
        "id": "wPPFwPp_5EHw",
        "outputId": "b91da915-0c9c-4ac1-81e8-7a6a144803af"
      },
      "execution_count": null,
      "outputs": [
        {
          "output_type": "execute_result",
          "data": {
            "text/plain": [
              "<tf.Tensor: shape=(3,), dtype=string, numpy=array([b'p1', b'p2', b'p3'], dtype=object)>"
            ]
          },
          "metadata": {},
          "execution_count": 166
        }
      ]
    },
    {
      "cell_type": "code",
      "source": [
        "tf.gather(params, tf.range(1,4))"
      ],
      "metadata": {
        "colab": {
          "base_uri": "https://localhost:8080/"
        },
        "id": "Fs-T5XAF5QFL",
        "outputId": "069892bd-34ea-4856-d54d-73306391e70f"
      },
      "execution_count": null,
      "outputs": [
        {
          "output_type": "execute_result",
          "data": {
            "text/plain": [
              "<tf.Tensor: shape=(3,), dtype=string, numpy=array([b'p1', b'p2', b'p3'], dtype=object)>"
            ]
          },
          "metadata": {},
          "execution_count": 167
        }
      ]
    },
    {
      "cell_type": "code",
      "source": [
        "params = tf.constant([[0,1.0,2.0],\n",
        "                      [10.0,11.0,12.0],\n",
        "                      [20.0,21.0,22.0],\n",
        "                      [30.0,31.0,32.0]])\n",
        "\n",
        "print(params.shape)\n",
        "tf.gather(params, [0, 2], axis = 1)\n",
        "# remenber axis = 0 signifies rows and axis = 1 signifies columns\n",
        "# Note; adding more brackes increases the shape of the tensor"
      ],
      "metadata": {
        "colab": {
          "base_uri": "https://localhost:8080/"
        },
        "id": "H9Ndi7R856BJ",
        "outputId": "ab0d090f-11ae-49c9-d509-2be36a85575c"
      },
      "execution_count": null,
      "outputs": [
        {
          "output_type": "stream",
          "name": "stdout",
          "text": [
            "(4, 3)\n"
          ]
        },
        {
          "output_type": "execute_result",
          "data": {
            "text/plain": [
              "<tf.Tensor: shape=(4, 2), dtype=float32, numpy=\n",
              "array([[ 0.,  2.],\n",
              "       [10., 12.],\n",
              "       [20., 22.],\n",
              "       [30., 32.]], dtype=float32)>"
            ]
          },
          "metadata": {},
          "execution_count": 168
        }
      ]
    },
    {
      "cell_type": "markdown",
      "source": [
        "###tf.gather_nd\n",
        "- Let's you gather values using multidimensional indices\n",
        "- like doing fancy indexing or advanced slicing in NumPy.\n",
        "Gather slices from params into a Tensor with shape specified by indices"
      ],
      "metadata": {
        "id": "GARUMz-37p5C"
      }
    },
    {
      "cell_type": "code",
      "source": [
        "# is a list of row indices, each as a 1-element list:\n",
        "indices = [[0], # refers to the 0th row\n",
        "           [1]] # refers to the 1st row\n",
        "\n",
        "# a 2D tensor of shape (2, 2)\n",
        "params = [['a', 'b'],\n",
        "          ['c', 'd']]\n",
        "\n",
        "tf.gather_nd(params, indices)"
      ],
      "metadata": {
        "colab": {
          "base_uri": "https://localhost:8080/"
        },
        "id": "iQp7WxOmApze",
        "outputId": "ccf45ab7-d05a-4aa0-d5c0-f9dec4302e7a"
      },
      "execution_count": null,
      "outputs": [
        {
          "output_type": "execute_result",
          "data": {
            "text/plain": [
              "<tf.Tensor: shape=(2, 2), dtype=string, numpy=\n",
              "array([[b'a', b'b'],\n",
              "       [b'c', b'd']], dtype=object)>"
            ]
          },
          "metadata": {},
          "execution_count": 169
        }
      ]
    },
    {
      "cell_type": "markdown",
      "source": [
        "##Ragged Tensors\n",
        "- Tensors with non-uniform shapes along one or more dimensions\n",
        "- tf.ragged"
      ],
      "metadata": {
        "id": "R1jSVjh7Gkr2"
      }
    },
    {
      "cell_type": "code",
      "source": [
        "tensor_two_d = tf.constant([\n",
        "    [1,2,6],\n",
        "    [3,5,-1],\n",
        "    [1,5,6],\n",
        "    [2,3,8]\n",
        "])\n",
        "print(tensor_two_d.shape)"
      ],
      "metadata": {
        "id": "H1Zbi06yGox4",
        "colab": {
          "base_uri": "https://localhost:8080/"
        },
        "outputId": "82614117-bee0-43c1-db76-18b977f03471"
      },
      "execution_count": null,
      "outputs": [
        {
          "output_type": "stream",
          "name": "stdout",
          "text": [
            "(4, 3)\n"
          ]
        }
      ]
    },
    {
      "cell_type": "code",
      "source": [
        "tensor_two_d = [[1,2,6],\n",
        "                [3,],\n",
        "                [1,5,6],\n",
        "                [2,3]]\n",
        "\n",
        "tensor_ragged = tf.ragged.constant(tensor_two_d)\n",
        "print(tensor_ragged)\n",
        "print(tensor_ragged.shape)"
      ],
      "metadata": {
        "colab": {
          "base_uri": "https://localhost:8080/"
        },
        "id": "gLJfGZuQd1lK",
        "outputId": "d7e859f7-6e95-4dec-9637-4a590665817e"
      },
      "execution_count": null,
      "outputs": [
        {
          "output_type": "stream",
          "name": "stdout",
          "text": [
            "<tf.RaggedTensor [[1, 2, 6], [3], [1, 5, 6], [2, 3]]>\n",
            "(4, None)\n"
          ]
        }
      ]
    },
    {
      "cell_type": "markdown",
      "source": [
        "###tf.ragged.boolean_mask\n",
        "- Applies a boolean mask to data without flattening the mask dimensions\n",
        "- Allows you to select elements based on a condition\n",
        "- Same as tf.boolean_mask for dense tensors, but specifically designed to handle ragged (non-uniform) data\n"
      ],
      "metadata": {
        "id": "aEJ9EnSGhci7"
      }
    },
    {
      "cell_type": "code",
      "source": [
        "data = tf.ragged.constant([[1, 2, 3], [4, 5], [6]])\n",
        "mask = tf.ragged.constant([[True, False, True], [False, True], [True]])\n",
        "\n",
        "result = tf.ragged.boolean_mask(data, mask)\n",
        "print(result) # Note, only values where mask is true are retained"
      ],
      "metadata": {
        "colab": {
          "base_uri": "https://localhost:8080/"
        },
        "id": "aD4rDSnUnjMI",
        "outputId": "11af4eba-52c1-41cc-852f-2de3d8f6c924"
      },
      "execution_count": null,
      "outputs": [
        {
          "output_type": "stream",
          "name": "stdout",
          "text": [
            "<tf.RaggedTensor [[1, 3], [5], [6]]>\n"
          ]
        }
      ]
    },
    {
      "cell_type": "markdown",
      "source": [
        "###Creating a ragged tensor"
      ],
      "metadata": {
        "id": "ZuB6pNUJm562"
      }
    },
    {
      "cell_type": "code",
      "source": [
        "print(tf.RaggedTensor.from_row_lengths(\n",
        "    values=[3, 1, 4, 1, 5, 9, 2, 6],\n",
        "    row_lengths=[4, 0, 3, 1, 0] # Takes the first 4, then 0, then 3 etc\n",
        "))"
      ],
      "metadata": {
        "colab": {
          "base_uri": "https://localhost:8080/"
        },
        "id": "7OjUQiE0m-Xf",
        "outputId": "ca20ac50-d162-4ba8-82df-1cf03cf066c7"
      },
      "execution_count": null,
      "outputs": [
        {
          "output_type": "stream",
          "name": "stdout",
          "text": [
            "<tf.RaggedTensor [[3, 1, 4, 1], [], [5, 9, 2], [6], []]>\n"
          ]
        }
      ]
    },
    {
      "cell_type": "markdown",
      "source": [
        "##sparse tensors\n",
        "- This is where most elements are zeros or missing values\n",
        "- Tensor flows then stores only the non-zeros and there position making memory efficient and faster"
      ],
      "metadata": {
        "id": "NhC87n4Jt8kH"
      }
    },
    {
      "cell_type": "code",
      "source": [
        "tensor_sparse = tf.sparse.SparseTensor(\n",
        "    indices = [[1,1],[3,4]], values = [11,56], dense_shape = [5,6]\n",
        ")\n",
        "\n",
        "print(tensor_sparse)\n",
        "# indices: locations of the non-zero elements\n",
        "# values: actual non-zero values at those indices\n",
        "# dense_shape: the full shape if all values were included (with zeros where not explicitly set)"
      ],
      "metadata": {
        "colab": {
          "base_uri": "https://localhost:8080/"
        },
        "id": "EFWoZlKop_4G",
        "outputId": "9432c90f-6105-4f0a-a918-7bb9422dc347"
      },
      "execution_count": null,
      "outputs": [
        {
          "output_type": "stream",
          "name": "stdout",
          "text": [
            "SparseTensor(indices=tf.Tensor(\n",
            "[[1 1]\n",
            " [3 4]], shape=(2, 2), dtype=int64), values=tf.Tensor([11 56], shape=(2,), dtype=int32), dense_shape=tf.Tensor([5 6], shape=(2,), dtype=int64))\n"
          ]
        }
      ]
    },
    {
      "cell_type": "code",
      "source": [
        "tf.sparse.to_dense(tensor_sparse)"
      ],
      "metadata": {
        "colab": {
          "base_uri": "https://localhost:8080/"
        },
        "id": "RNiJB4Lbs1MQ",
        "outputId": "9baac4d0-06e7-4e83-964b-94a62d7ca91f"
      },
      "execution_count": null,
      "outputs": [
        {
          "output_type": "execute_result",
          "data": {
            "text/plain": [
              "<tf.Tensor: shape=(5, 6), dtype=int32, numpy=\n",
              "array([[ 0,  0,  0,  0,  0,  0],\n",
              "       [ 0, 11,  0,  0,  0,  0],\n",
              "       [ 0,  0,  0,  0,  0,  0],\n",
              "       [ 0,  0,  0,  0, 56,  0],\n",
              "       [ 0,  0,  0,  0,  0,  0]], dtype=int32)>"
            ]
          },
          "metadata": {},
          "execution_count": 175
        }
      ]
    },
    {
      "cell_type": "markdown",
      "source": [
        "##String Tensors\n",
        "- They hold string values instaed of numeric data\n",
        "- Useful in natural language processing(NLP), text classification, tokenization, etc"
      ],
      "metadata": {
        "id": "mnf8qkxrtd8v"
      }
    },
    {
      "cell_type": "code",
      "source": [
        "tensor_string = tf.constant([\"hello\", \"I am\", \"the best\",  \"AI Engineer\", \"to ever exist\"])\n",
        "print(tensor_string)\n",
        "# The b prefix in Python stands for byte strings.\n",
        "# It means that the strings are stored as raw bytes rather than Unicode objects."
      ],
      "metadata": {
        "colab": {
          "base_uri": "https://localhost:8080/"
        },
        "id": "6EcDtU-3u_EO",
        "outputId": "0045c68d-63d8-4533-b839-c2bae9eb8fcb"
      },
      "execution_count": null,
      "outputs": [
        {
          "output_type": "stream",
          "name": "stdout",
          "text": [
            "tf.Tensor([b'hello' b'I am' b'the best' b'AI Engineer' b'to ever exist'], shape=(5,), dtype=string)\n"
          ]
        }
      ]
    },
    {
      "cell_type": "markdown",
      "source": [
        "###Join method\n",
        "- Used to concatenate strings along a specified axis or with a separator.\n",
        "- Similar to Python’s \"sep\".join(list) but works on TensorFlow string tensors, including batches and RaggedTensors.\n",
        "- tf.strings.join\n",
        "\n"
      ],
      "metadata": {
        "id": "7ZfM66Yfwuta"
      }
    },
    {
      "cell_type": "code",
      "source": [
        "tensor_string"
      ],
      "metadata": {
        "colab": {
          "base_uri": "https://localhost:8080/"
        },
        "id": "BZ4Fip3txPNy",
        "outputId": "e7a38e50-8bf7-4c09-ba6c-db36121b1a78"
      },
      "execution_count": null,
      "outputs": [
        {
          "output_type": "execute_result",
          "data": {
            "text/plain": [
              "<tf.Tensor: shape=(5,), dtype=string, numpy=\n",
              "array([b'hello', b'I am', b'the best', b'AI Engineer', b'to ever exist'],\n",
              "      dtype=object)>"
            ]
          },
          "metadata": {},
          "execution_count": 177
        }
      ]
    },
    {
      "cell_type": "code",
      "source": [
        "tf.strings.join(tensor_string, separator=\" + \")"
      ],
      "metadata": {
        "colab": {
          "base_uri": "https://localhost:8080/"
        },
        "id": "S-CJz5_TySXz",
        "outputId": "dc13406f-4029-4925-c18a-335e9a2052f8"
      },
      "execution_count": null,
      "outputs": [
        {
          "output_type": "execute_result",
          "data": {
            "text/plain": [
              "<tf.Tensor: shape=(), dtype=string, numpy=b'hello + I am + the best + AI Engineer + to ever exist'>"
            ]
          },
          "metadata": {},
          "execution_count": 178
        }
      ]
    },
    {
      "cell_type": "markdown",
      "source": [
        "#VARIABLES\n",
        "- tf.Variable is a special kind of tensor whose value can be changed during execution\n",
        "- unlike tf.constant or tf.Tensor, which are immutable\n",
        "\n",
        "Essential for:\n",
        "- Storing weights in neural networks\n",
        "- Keeping track of training parameters\n",
        "- Building trainable models"
      ],
      "metadata": {
        "id": "D0CBbtC5zKw6"
      }
    },
    {
      "cell_type": "code",
      "source": [
        "x_var = tf.Variable(x, name = 'var1')\n",
        "print(x_var)"
      ],
      "metadata": {
        "colab": {
          "base_uri": "https://localhost:8080/"
        },
        "id": "LxxnAjek3QOX",
        "outputId": "a5549383-13a5-461e-f15a-44a41fb0a59b"
      },
      "execution_count": null,
      "outputs": [
        {
          "output_type": "stream",
          "name": "stdout",
          "text": [
            "<tf.Variable 'var1:0' shape=(1, 1, 4) dtype=int32, numpy=array([[[2, 3, 4, 5]]], dtype=int32)>\n"
          ]
        }
      ]
    },
    {
      "cell_type": "markdown",
      "source": [
        "###Assign subtraction\n",
        "- assign_sub()\n",
        "- Used to subtract a value from a tf.Variable and update the variable in place."
      ],
      "metadata": {
        "id": "q9ZVZycW4AVq"
      }
    },
    {
      "cell_type": "code",
      "source": [
        "# You need to subtract a tensor with the same shape [1,1,4].\n",
        "x_var.assign_sub(tf.constant([[[3,6,0,0]]], dtype=tf.int32))"
      ],
      "metadata": {
        "colab": {
          "base_uri": "https://localhost:8080/"
        },
        "id": "Q4TbMiIC4Zh6",
        "outputId": "92c5a3d9-0144-45d7-b707-90b3dece26ff"
      },
      "execution_count": null,
      "outputs": [
        {
          "output_type": "execute_result",
          "data": {
            "text/plain": [
              "<tf.Variable 'UnreadVariable' shape=(1, 1, 4) dtype=int32, numpy=array([[[-4, -9,  4,  5]]], dtype=int32)>"
            ]
          },
          "metadata": {},
          "execution_count": 184
        }
      ]
    },
    {
      "cell_type": "code",
      "source": [
        "with tf.device('CPU:0'): # Place any new tensors or variables created inside this block on the first CPU (CPU:0) if one is available\n",
        "  x_var = tf.Variable(0.2)\n",
        "  x_tensor = tf.constant(0.2)\n",
        "\n",
        "print(x_var.device)\n",
        "print(x_tensor.device)"
      ],
      "metadata": {
        "colab": {
          "base_uri": "https://localhost:8080/"
        },
        "id": "yOjSAT9u5dSU",
        "outputId": "4ba6c810-8696-4d89-b552-58401c46316a"
      },
      "execution_count": null,
      "outputs": [
        {
          "output_type": "stream",
          "name": "stdout",
          "text": [
            "/job:localhost/replica:0/task:0/device:CPU:0\n",
            "/job:localhost/replica:0/task:0/device:CPU:0\n"
          ]
        }
      ]
    },
    {
      "cell_type": "code",
      "source": [
        "with tf.device('CPU:0'):\n",
        "  x_1 = tf.constant([1,3,4])\n",
        "  x_2 = tf.constant([1])\n",
        "\n",
        "  with tf.device('CPU:0'):\n",
        "    x_3 = x_1 + x_2\n",
        "\n",
        "  print(x_1, x_1.device)\n",
        "  print(x_2, x_2.device)\n",
        "  print(x_3, x_3.device)"
      ],
      "metadata": {
        "colab": {
          "base_uri": "https://localhost:8080/"
        },
        "id": "gmy3HZUm7oKM",
        "outputId": "987b889d-b0e4-4c12-eb73-393081b7fa93"
      },
      "execution_count": null,
      "outputs": [
        {
          "output_type": "stream",
          "name": "stdout",
          "text": [
            "tf.Tensor([1 3 4], shape=(3,), dtype=int32) /job:localhost/replica:0/task:0/device:CPU:0\n",
            "tf.Tensor([1], shape=(1,), dtype=int32) /job:localhost/replica:0/task:0/device:CPU:0\n",
            "tf.Tensor([2 4 5], shape=(3,), dtype=int32) /job:localhost/replica:0/task:0/device:CPU:0\n"
          ]
        }
      ]
    }
  ]
}